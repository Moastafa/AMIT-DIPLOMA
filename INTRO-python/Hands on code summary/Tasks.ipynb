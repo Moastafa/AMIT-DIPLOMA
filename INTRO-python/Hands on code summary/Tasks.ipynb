{
 "cells": [
  {
   "cell_type": "code",
   "execution_count": 2,
   "metadata": {},
   "outputs": [
    {
     "name": "stdout",
     "output_type": "stream",
     "text": [
      "List :  ['1', '3', '5', '7', '9', '0']\n",
      "Tuple :  ('1', '3', '5', '7', '9', '0')\n"
     ]
    }
   ],
   "source": [
    "values = input(\"Input some comma seprated numbers : \")\n",
    "list_value = values.split(\",\")\n",
    "tuple_value = tuple(list_value)\n",
    "print('List : ',list_value)\n",
    "print('Tuple : ',tuple_value)"
   ]
  },
  {
   "cell_type": "code",
   "execution_count": 1,
   "metadata": {},
   "outputs": [
    {
     "name": "stdout",
     "output_type": "stream",
     "text": [
      "The Gravitational Force is:  0.33 N\n"
     ]
    }
   ],
   "source": [
    "# Python3 code to find Gravitational Force\n",
    "def force(m1, m2, r):\n",
    "\tG = 6.673*(10**-11)\n",
    "\tF = (G*m1*m2)/(r**2)\n",
    "\n",
    "\t# Rounding to two digits after decimal\n",
    "\treturn round(F, 2)\n",
    "\n",
    "# Driver Code\n",
    "m1 = 5000000\n",
    "m2 = 900000\n",
    "r = 30\n",
    "print(\"The Gravitational Force is: \", force(m1, m2, r), \"N\")\n"
   ]
  },
  {
   "cell_type": "code",
   "execution_count": 5,
   "metadata": {},
   "outputs": [
    {
     "name": "stdout",
     "output_type": "stream",
     "text": [
      "The Gravitational Force is:  2.13536e-11\n"
     ]
    }
   ],
   "source": [
    "m1 = int(input(\"m2 value : \"))\n",
    "m2 = int(input(\"m1 vlaue : \"))\n",
    "r = int(input(\"r value : \"))\n",
    "gravitational_force = force(m1, m2, r)\n",
    "G = 6.673*(10**-11)\n",
    "\n",
    "F = (G*m1*m2)/(r**2)\n",
    "\n",
    "print( \"The Gravitational Force is: \",F)"
   ]
  },
  {
   "cell_type": "code",
   "execution_count": 12,
   "metadata": {},
   "outputs": [
    {
     "name": "stdout",
     "output_type": "stream",
     "text": [
      "Hello ,Worl,d             \n"
     ]
    },
    {
     "data": {
      "text/plain": [
       "['Hello', ',Worl,d']"
      ]
     },
     "execution_count": 12,
     "metadata": {},
     "output_type": "execute_result"
    }
   ],
   "source": [
    "x = 'Hello ,Worl,d             '\n",
    "print(x)\n",
    "\n",
    "x.split()"
   ]
  }
 ],
 "metadata": {
  "kernelspec": {
   "display_name": "Python 3.9.7 ('base')",
   "language": "python",
   "name": "python3"
  },
  "language_info": {
   "codemirror_mode": {
    "name": "ipython",
    "version": 3
   },
   "file_extension": ".py",
   "mimetype": "text/x-python",
   "name": "python",
   "nbconvert_exporter": "python",
   "pygments_lexer": "ipython3",
   "version": "3.9.7"
  },
  "orig_nbformat": 4,
  "vscode": {
   "interpreter": {
    "hash": "5587188a959c3ccd3fd412a5dab4879f6f5ada480ba17066fb39bd064b98cf14"
   }
  }
 },
 "nbformat": 4,
 "nbformat_minor": 2
}
